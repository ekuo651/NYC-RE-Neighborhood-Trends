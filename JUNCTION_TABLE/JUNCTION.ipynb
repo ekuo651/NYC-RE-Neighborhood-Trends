{
 "cells": [
  {
   "cell_type": "code",
   "execution_count": 1,
   "metadata": {},
   "outputs": [],
   "source": [
    "import csv\n",
    "import pandas as pd\n",
    "import numpy as np"
   ]
  },
  {
   "cell_type": "code",
   "execution_count": 9,
   "metadata": {},
   "outputs": [
    {
     "data": {
      "text/plain": [
       "BLOCK       int64\n",
       "ZIPCODE     int64\n",
       "BOROUGH    object\n",
       "dtype: object"
      ]
     },
     "execution_count": 9,
     "metadata": {},
     "output_type": "execute_result"
    }
   ],
   "source": [
    "bronx_path = 'bronx_sales.csv'\n",
    "bronx_df = pd.read_csv(bronx_path)\n",
    "bronx_df['BOROUGH']='BRONX'\n",
    "bronx_neighborhoods = bronx_df.drop(columns=['BUILDING CLASS CATEGORY','LOT','SALE DATE','SALE PRICE'])\n",
    "bronx_neighborhoods.drop_duplicates(inplace=True)\n",
    "bronx_neighborhoods.dropna(inplace=True)\n",
    "bronx_filtered = bronx_neighborhoods[bronx_neighborhoods['ZIPCODE']!=0]\n",
    "bronx_filtered.set_index('NEIGHBORHOOD', inplace=True)\n",
    "bronx_filtered.dtypes"
   ]
  },
  {
   "cell_type": "code",
   "execution_count": 14,
   "metadata": {},
   "outputs": [
    {
     "data": {
      "text/plain": [
       "BLOCK       int64\n",
       "ZIPCODE     int32\n",
       "BOROUGH    object\n",
       "dtype: object"
      ]
     },
     "execution_count": 14,
     "metadata": {},
     "output_type": "execute_result"
    }
   ],
   "source": [
    "brooklyn_path = 'brooklyn_sales.csv'\n",
    "brooklyn_df = pd.read_csv(brooklyn_path)\n",
    "brooklyn_df['BOROUGH']='BROOKLYN'\n",
    "brooklyn_neighborhoods = brooklyn_df.drop(columns=['BUILDING CLASS CATEGORY','LOT','SALE DATE','SALE PRICE'])\n",
    "brooklyn_neighborhoods.drop_duplicates(inplace=True)\n",
    "brooklyn_neighborhoods.dropna(inplace=True)\n",
    "brooklyn_neighborhoods['ZIPCODE']=brooklyn_neighborhoods['ZIPCODE'].astype('int')\n",
    "brooklyn_filtered = brooklyn_neighborhoods[brooklyn_neighborhoods['ZIPCODE']!=0]\n",
    "brooklyn_filtered.set_index('NEIGHBORHOOD', inplace=True)\n",
    "brooklyn_filtered.dtypes"
   ]
  },
  {
   "cell_type": "code",
   "execution_count": 15,
   "metadata": {},
   "outputs": [
    {
     "data": {
      "text/plain": [
       "BLOCK       int64\n",
       "ZIPCODE     int64\n",
       "BOROUGH    object\n",
       "dtype: object"
      ]
     },
     "execution_count": 15,
     "metadata": {},
     "output_type": "execute_result"
    }
   ],
   "source": [
    "manhattan_path = 'manhattan_sales.csv'\n",
    "manhattan_df = pd.read_csv(manhattan_path)\n",
    "manhattan_df['BOROUGH']='MANHATTAN'\n",
    "manhattan_neighborhoods = manhattan_df.drop(columns=['BUILDING CLASS CATEGORY','LOT','SALE DATE','SALE PRICE'])\n",
    "manhattan_neighborhoods.drop_duplicates(inplace=True)\n",
    "manhattan_neighborhoods.dropna(inplace=True)\n",
    "manhattan_filtered = manhattan_neighborhoods[manhattan_neighborhoods['ZIPCODE']!=0]\n",
    "manhattan_filtered.set_index('NEIGHBORHOOD', inplace=True)\n",
    "manhattan_filtered.dtypes"
   ]
  },
  {
   "cell_type": "code",
   "execution_count": 18,
   "metadata": {},
   "outputs": [
    {
     "data": {
      "text/plain": [
       "BLOCK       int64\n",
       "ZIPCODE     int64\n",
       "BOROUGH    object\n",
       "dtype: object"
      ]
     },
     "execution_count": 18,
     "metadata": {},
     "output_type": "execute_result"
    }
   ],
   "source": [
    "queens_path = 'queens_sales.csv'\n",
    "queens_df = pd.read_csv(queens_path)\n",
    "queens_df['BOROUGH']='QUEENS'\n",
    "queens_neighborhoods = queens_df.drop(columns=['BUILDING CLASS CATEGORY','LOT','SALE DATE','SALE PRICE'])\n",
    "queens_neighborhoods.drop_duplicates(inplace=True)\n",
    "queens_neighborhoods.dropna(inplace=True)\n",
    "queens_filtered = queens_neighborhoods[queens_neighborhoods['ZIPCODE']!=0]\n",
    "queens_filtered.set_index('NEIGHBORHOOD', inplace=True)\n",
    "queens_filtered.dtypes"
   ]
  },
  {
   "cell_type": "code",
   "execution_count": 19,
   "metadata": {},
   "outputs": [
    {
     "data": {
      "text/plain": [
       "BLOCK       int64\n",
       "ZIPCODE     int64\n",
       "BOROUGH    object\n",
       "dtype: object"
      ]
     },
     "execution_count": 19,
     "metadata": {},
     "output_type": "execute_result"
    }
   ],
   "source": [
    "four_boroughs = pd.concat([bronx_filtered,manhattan_filtered,queens_filtered,brooklyn_filtered], axis='rows', join='inner')\n",
    "four_boroughs.dtypes"
   ]
  },
  {
   "cell_type": "code",
   "execution_count": 20,
   "metadata": {},
   "outputs": [],
   "source": [
    "four_boroughs.to_csv('neigh_block_zip_borough.csv')"
   ]
  },
  {
   "cell_type": "code",
   "execution_count": null,
   "metadata": {},
   "outputs": [],
   "source": []
  }
 ],
 "metadata": {
  "kernelspec": {
   "display_name": "Python 3",
   "language": "python",
   "name": "python3"
  },
  "language_info": {
   "codemirror_mode": {
    "name": "ipython",
    "version": 3
   },
   "file_extension": ".py",
   "mimetype": "text/x-python",
   "name": "python",
   "nbconvert_exporter": "python",
   "pygments_lexer": "ipython3",
   "version": "3.7.3"
  }
 },
 "nbformat": 4,
 "nbformat_minor": 4
}
