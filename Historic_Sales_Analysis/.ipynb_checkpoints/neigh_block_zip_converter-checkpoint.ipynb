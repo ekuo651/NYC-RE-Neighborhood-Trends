{
 "cells": [
  {
   "cell_type": "code",
   "execution_count": 1,
   "metadata": {},
   "outputs": [],
   "source": [
    "import csv\n",
    "import pandas as pd\n",
    "import numpy as np\n"
   ]
  },
  {
   "cell_type": "code",
   "execution_count": null,
   "metadata": {},
   "outputs": [],
   "source": [
    "bronx_path = 'four_boroughs.csv'\n",
    "bronx_df = pd.read_csv(bronx_path)\n",
    "bronx_neighborhoods = bronx_df.drop(columns=['BUILDING CLASS CATEGORY','LOT','SALE DATE','SALE PRICE'])\n",
    "bronx_neighborhoods.drop_duplicates(inplace=True)\n",
    "bronx_neighborhoods.dropna(inplace=True)\n",
    "bronx_filtered = bronx_neighborhoods[bronx_neighborhoods['ZIPCODE']!=0]\n",
    "bronx_filtered.set_index('NEIGHBORHOOD', inplace=True)\n",
    "bronx_filtered.to_csv('bronx_neighborhood_block_zipcode.csv')\n"
   ]
  },
  {
   "cell_type": "code",
   "execution_count": 4,
   "metadata": {},
   "outputs": [],
   "source": [
    "bronx_path = 'Resources/bronx_sales.csv'\n",
    "bronx_df = pd.read_csv(bronx_path)\n",
    "bronx_neighborhoods = bronx_df.drop(columns=['BUILDING CLASS CATEGORY','LOT','SALE DATE','SALE PRICE'])\n",
    "bronx_neighborhoods.drop_duplicates(inplace=True)\n",
    "bronx_neighborhoods.dropna(inplace=True)\n",
    "bronx_filtered = bronx_neighborhoods[bronx_neighborhoods['ZIPCODE']!=0]\n",
    "bronx_filtered.set_index('NEIGHBORHOOD', inplace=True)\n",
    "bronx_filtered.to_csv('bronx_neighborhood_block_zipcode.csv')\n",
    "\n"
   ]
  },
  {
   "cell_type": "code",
   "execution_count": 8,
   "metadata": {},
   "outputs": [],
   "source": [
    "brooklyn_path = 'Resources/brooklyn_sales.csv'\n",
    "brooklyn_df = pd.read_csv(brooklyn_path)\n",
    "brooklyn_neighborhoods = brooklyn_df.drop(columns=['BUILDING CLASS CATEGORY','LOT','SALE DATE','SALE PRICE'])\n",
    "brooklyn_neighborhoods.drop_duplicates(inplace=True)\n",
    "brooklyn_neighborhoods.dropna(inplace=True)\n",
    "brooklyn_neighborhoods['ZIPCODE']= brooklyn_neighborhoods['ZIPCODE'].astype('int')\n",
    "brooklyn_filtered = brooklyn_neighborhoods[brooklyn_neighborhoods['ZIPCODE']!=0]\n",
    "brooklyn_filtered.set_index('NEIGHBORHOOD', inplace=True)\n",
    "brooklyn_filtered['ZIPCODE'].astype('int')\n",
    "brooklyn_filtered.to_csv('brooklyn_neighborhood_block_zipcode.csv')\n",
    "\n"
   ]
  },
  {
   "cell_type": "code",
   "execution_count": 5,
   "metadata": {},
   "outputs": [],
   "source": [
    "manhattan_path = 'Resources/manhattan_sales.csv'\n",
    "manhattan_df = pd.read_csv(manhattan_path)\n",
    "manhattan_neighborhoods = manhattan_df.drop(columns=['BUILDING CLASS CATEGORY','LOT','SALE DATE','SALE PRICE'])\n",
    "manhattan_neighborhoods.drop_duplicates(inplace=True)\n",
    "manhattan_neighborhoods.dropna(inplace=True)\n",
    "manhattan_filtered = manhattan_neighborhoods[manhattan_neighborhoods['ZIPCODE']!=0]\n",
    "manhattan_filtered.set_index('NEIGHBORHOOD', inplace=True)\n",
    "manhattan_filtered.to_csv('manhattan_neighborhood_block_zipcode.csv')\n",
    "\n"
   ]
  },
  {
   "cell_type": "code",
   "execution_count": 9,
   "metadata": {},
   "outputs": [],
   "source": [
    "queens_path = 'Resources/queens_sales.csv'\n",
    "queens_df = pd.read_csv(queens_path)\n",
    "queens_neighborhoods = queens_df.drop(columns=['BUILDING CLASS CATEGORY','LOT','SALE DATE','SALE PRICE'])\n",
    "queens_neighborhoods.drop_duplicates(inplace=True)\n",
    "queens_neighborhoods.dropna(inplace=True)\n",
    "queens_filtered = queens_neighborhoods[queens_neighborhoods['ZIPCODE']!=0]\n",
    "queens_filtered.set_index('NEIGHBORHOOD', inplace=True)\n",
    "queens_filtered.to_csv('queens_neighborhood_block_zipcode.csv')\n",
    "\n",
    "\n",
    "\n",
    "\n"
   ]
  },
  {
   "cell_type": "code",
   "execution_count": 10,
   "metadata": {},
   "outputs": [],
   "source": [
    "staten_path = 'Resources/staten_sales.csv'\n",
    "staten_df = pd.read_csv(staten_path)\n",
    "staten_neighborhoods = staten_df.drop(columns=['BUILDING CLASS CATEGORY','LOT','SALE DATE','SALE PRICE'])\n",
    "staten_neighborhoods.drop_duplicates(inplace=True)\n",
    "staten_neighborhoods.dropna(inplace=True)\n",
    "staten_filtered = staten_neighborhoods[staten_neighborhoods['ZIPCODE']!=0]\n",
    "staten_filtered.set_index('NEIGHBORHOOD', inplace=True)\n",
    "staten_filtered.to_csv('staten_neighborhood_block_zipcode.csv')\n",
    "\n",
    "\n",
    "\n",
    "\n"
   ]
  },
  {
   "cell_type": "code",
   "execution_count": null,
   "metadata": {},
   "outputs": [],
   "source": []
  }
 ],
 "metadata": {
  "kernelspec": {
   "display_name": "Python 3",
   "language": "python",
   "name": "python3"
  },
  "language_info": {
   "codemirror_mode": {
    "name": "ipython",
    "version": 3
   },
   "file_extension": ".py",
   "mimetype": "text/x-python",
   "name": "python",
   "nbconvert_exporter": "python",
   "pygments_lexer": "ipython3",
   "version": "3.7.3"
  }
 },
 "nbformat": 4,
 "nbformat_minor": 4
}
