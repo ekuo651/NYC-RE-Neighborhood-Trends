{
 "cells": [
  {
   "cell_type": "code",
   "execution_count": 3,
   "metadata": {},
   "outputs": [],
   "source": [
    "import csv\n",
    "import pandas as pd\n",
    "import numpy as np"
   ]
  },
  {
   "cell_type": "code",
   "execution_count": 45,
   "metadata": {},
   "outputs": [],
   "source": [
    "bronx_path = 'Resources/bronx_2003_2018.csv'\n",
    "bronx_df = pd.read_csv(bronx_path)\n",
    "bronx_neighborhoods = bronx_df.drop(columns=['BUILDING CLASS CATEGORY','SALE DATE','SALE PRICE'])\n",
    "bronx_cleaned = bronx_neighborhoods.drop_duplicates()\n",
    "bronx_cleaned2 = bronx_cleaned[bronx_cleaned['ZIPCODE'] != 0]\n",
    "bronx_cleaned2.to_csv('bronx_neighborhood_zipcode.csv')"
   ]
  },
  {
   "cell_type": "code",
   "execution_count": 52,
   "metadata": {},
   "outputs": [
    {
     "name": "stderr",
     "output_type": "stream",
     "text": [
      "C:\\Users\\ekuo651\\Anaconda3\\lib\\site-packages\\ipykernel_launcher.py:7: FutureWarning: The signature of `Series.to_csv` was aligned to that of `DataFrame.to_csv`, and argument 'header' will change its default value from False to True: please pass an explicit value to suppress this warning.\n",
      "  import sys\n"
     ]
    }
   ],
   "source": [
    "brooklyn_path = 'Resources/brooklyn_2003_2018.csv'\n",
    "brooklyn_df = pd.read_csv(brooklyn_path)\n",
    "brooklyn_neighborhoods = brooklyn_df.drop(columns=['BUILDING CLASS CATEGORY','SALE DATE','SALE PRICE'])\n",
    "brooklyn_neighborhoods.drop_duplicates()\n",
    "brooklyn_neighborhoods.dropna()\n",
    "\n",
    "brooklyn_cleaned2 = brooklyn_cleaned[brooklyn_cleaned['ZIPCODE'] != 0]\n",
    "brooklyn_cleaned3 = \n",
    "brooklynbrooklyn_cleaned2['ZIPCODE'].astype('int')\n",
    "brooklyn_cleaned2.to_csv('brooklyn_neighborhood_zipcode.csv')\n",
    "\n"
   ]
  },
  {
   "cell_type": "code",
   "execution_count": 47,
   "metadata": {},
   "outputs": [],
   "source": [
    "manhattan_path = 'Resources/manhattan_2003_2018.csv'\n",
    "manhattan_df = pd.read_csv(manhattan_path)\n",
    "manhattan_neighborhoods = manhattan_df.drop(columns=['BUILDING CLASS CATEGORY','SALE DATE','SALE PRICE'])\n",
    "manhattan_cleaned = manhattan_neighborhoods.drop_duplicates()\n",
    "manhattan_cleaned2 = manhattan_cleaned[manhattan_cleaned['ZIPCODE'] != 0]\n",
    "manhattan_cleaned2.to_csv('manhattan_neighborhood_zipcode.csv')\n",
    "\n"
   ]
  },
  {
   "cell_type": "code",
   "execution_count": 36,
   "metadata": {},
   "outputs": [],
   "source": [
    "queens_path = 'Resources/queens_2003_2018.csv'\n",
    "queens_df = pd.read_csv(queens_path)\n",
    "queens_neighborhoods = queens_df.drop(columns=['BUILDING CLASS CATEGORY','SALE DATE','SALE PRICE'])\n",
    "queens_cleaned = queens_neighborhoods.drop_duplicates()\n",
    "queens_cleaned2 = queens_cleaned[queens_cleaned['ZIPCODE'] != 0]\n",
    "queens_cleaned2.to_csv('queens_neighborhood_zipcode.csv')\n",
    "\n"
   ]
  },
  {
   "cell_type": "code",
   "execution_count": 48,
   "metadata": {},
   "outputs": [],
   "source": [
    "staten_path = 'Resources/staten_2003_2018.csv'\n",
    "staten_df = pd.read_csv(staten_path)\n",
    "staten_neighborhoods = staten_df.drop(columns=['BUILDING CLASS CATEGORY','SALE DATE','SALE PRICE'])\n",
    "staten_cleaned = staten_neighborhoods.drop_duplicates()\n",
    "staten_cleaned2 = staten_cleaned[staten_cleaned['ZIPCODE'] != 0]\n",
    "staten_cleaned2.to_csv('staten_neighborhood_zipcode.csv')\n",
    "\n"
   ]
  },
  {
   "cell_type": "code",
   "execution_count": null,
   "metadata": {},
   "outputs": [],
   "source": []
  },
  {
   "cell_type": "code",
   "execution_count": null,
   "metadata": {},
   "outputs": [],
   "source": []
  },
  {
   "cell_type": "code",
   "execution_count": null,
   "metadata": {},
   "outputs": [],
   "source": []
  },
  {
   "cell_type": "code",
   "execution_count": null,
   "metadata": {},
   "outputs": [],
   "source": []
  },
  {
   "cell_type": "code",
   "execution_count": null,
   "metadata": {},
   "outputs": [],
   "source": []
  },
  {
   "cell_type": "code",
   "execution_count": null,
   "metadata": {},
   "outputs": [],
   "source": []
  }
 ],
 "metadata": {
  "kernelspec": {
   "display_name": "Python 3",
   "language": "python",
   "name": "python3"
  },
  "language_info": {
   "codemirror_mode": {
    "name": "ipython",
    "version": 3
   },
   "file_extension": ".py",
   "mimetype": "text/x-python",
   "name": "python",
   "nbconvert_exporter": "python",
   "pygments_lexer": "ipython3",
   "version": "3.7.3"
  }
 },
 "nbformat": 4,
 "nbformat_minor": 4
}
